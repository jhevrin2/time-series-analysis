{
 "cells": [
  {
   "cell_type": "code",
   "execution_count": 1,
   "id": "affecting-anatomy",
   "metadata": {},
   "outputs": [],
   "source": [
    "import boto3\n",
    "import sagemaker\n",
    "import pandas as pd"
   ]
  },
  {
   "cell_type": "code",
   "execution_count": 38,
   "id": "random-morning",
   "metadata": {},
   "outputs": [],
   "source": [
    "def get_project_file(bucket: str = 'jhevrin2-datasci', subfolder: str = 'time-series'):\n",
    "    aws_session = boto3.session.Session()\n",
    "    s3_client = boto3.client(\"s3\")\n",
    "    all_objects = s3_client.list_objects(Bucket = 'jhevrin2-datasci')\n",
    "    contents = all_objects['Contents']\n",
    "    try:\n",
    "        s3_path = [content['Key'] for content in all_objects['Contents'] if 'time-series' in content['Key']][0]\n",
    "        formatted_path = f\"s3://jhevrin2-datasci/{s3_path}\"\n",
    "        print(formatted_path)\n",
    "        return pd.read_csv(formatted_path)\n",
    "    except IndexError:\n",
    "        return None"
   ]
  },
  {
   "cell_type": "code",
   "execution_count": 39,
   "id": "altered-library",
   "metadata": {},
   "outputs": [
    {
     "name": "stdout",
     "output_type": "stream",
     "text": [
      "s3://jhevrin2-datasci/datascience/time-series/Dataset.csv\n"
     ]
    }
   ],
   "source": [
    "data = get_project_file()"
   ]
  },
  {
   "cell_type": "code",
   "execution_count": 40,
   "id": "lined-gross",
   "metadata": {},
   "outputs": [
    {
     "data": {
      "text/html": [
       "<div>\n",
       "<style scoped>\n",
       "    .dataframe tbody tr th:only-of-type {\n",
       "        vertical-align: middle;\n",
       "    }\n",
       "\n",
       "    .dataframe tbody tr th {\n",
       "        vertical-align: top;\n",
       "    }\n",
       "\n",
       "    .dataframe thead th {\n",
       "        text-align: right;\n",
       "    }\n",
       "</style>\n",
       "<table border=\"1\" class=\"dataframe\">\n",
       "  <thead>\n",
       "    <tr style=\"text-align: right;\">\n",
       "      <th></th>\n",
       "      <th>dt</th>\n",
       "      <th>AverageTemperature</th>\n",
       "      <th>AverageTemperatureUncertainty</th>\n",
       "      <th>City</th>\n",
       "      <th>Country</th>\n",
       "      <th>Latitude</th>\n",
       "      <th>Longitude</th>\n",
       "    </tr>\n",
       "  </thead>\n",
       "  <tbody>\n",
       "    <tr>\n",
       "      <th>0</th>\n",
       "      <td>1849-01-01</td>\n",
       "      <td>26.704</td>\n",
       "      <td>1.435</td>\n",
       "      <td>Abidjan</td>\n",
       "      <td>Côte D'Ivoire</td>\n",
       "      <td>5.63N</td>\n",
       "      <td>3.23W</td>\n",
       "    </tr>\n",
       "    <tr>\n",
       "      <th>1</th>\n",
       "      <td>1849-02-01</td>\n",
       "      <td>27.434</td>\n",
       "      <td>1.362</td>\n",
       "      <td>Abidjan</td>\n",
       "      <td>Côte D'Ivoire</td>\n",
       "      <td>5.63N</td>\n",
       "      <td>3.23W</td>\n",
       "    </tr>\n",
       "    <tr>\n",
       "      <th>2</th>\n",
       "      <td>1849-03-01</td>\n",
       "      <td>28.101</td>\n",
       "      <td>1.612</td>\n",
       "      <td>Abidjan</td>\n",
       "      <td>Côte D'Ivoire</td>\n",
       "      <td>5.63N</td>\n",
       "      <td>3.23W</td>\n",
       "    </tr>\n",
       "    <tr>\n",
       "      <th>3</th>\n",
       "      <td>1849-04-01</td>\n",
       "      <td>26.140</td>\n",
       "      <td>1.387</td>\n",
       "      <td>Abidjan</td>\n",
       "      <td>Côte D'Ivoire</td>\n",
       "      <td>5.63N</td>\n",
       "      <td>3.23W</td>\n",
       "    </tr>\n",
       "    <tr>\n",
       "      <th>4</th>\n",
       "      <td>1849-05-01</td>\n",
       "      <td>25.427</td>\n",
       "      <td>1.200</td>\n",
       "      <td>Abidjan</td>\n",
       "      <td>Côte D'Ivoire</td>\n",
       "      <td>5.63N</td>\n",
       "      <td>3.23W</td>\n",
       "    </tr>\n",
       "  </tbody>\n",
       "</table>\n",
       "</div>"
      ],
      "text/plain": [
       "           dt  AverageTemperature  AverageTemperatureUncertainty     City  \\\n",
       "0  1849-01-01              26.704                          1.435  Abidjan   \n",
       "1  1849-02-01              27.434                          1.362  Abidjan   \n",
       "2  1849-03-01              28.101                          1.612  Abidjan   \n",
       "3  1849-04-01              26.140                          1.387  Abidjan   \n",
       "4  1849-05-01              25.427                          1.200  Abidjan   \n",
       "\n",
       "         Country Latitude Longitude  \n",
       "0  Côte D'Ivoire    5.63N     3.23W  \n",
       "1  Côte D'Ivoire    5.63N     3.23W  \n",
       "2  Côte D'Ivoire    5.63N     3.23W  \n",
       "3  Côte D'Ivoire    5.63N     3.23W  \n",
       "4  Côte D'Ivoire    5.63N     3.23W  "
      ]
     },
     "execution_count": 40,
     "metadata": {},
     "output_type": "execute_result"
    }
   ],
   "source": [
    "data.head()"
   ]
  },
  {
   "cell_type": "code",
   "execution_count": 13,
   "id": "authorized-planet",
   "metadata": {},
   "outputs": [],
   "source": [
    "aws_session = boto3.session.Session()\n",
    "sagemaker_sess = sagemaker.Session()\n",
    "s3_client = boto3.client(\"s3\")"
   ]
  },
  {
   "cell_type": "code",
   "execution_count": 14,
   "id": "loved-czech",
   "metadata": {},
   "outputs": [],
   "source": [
    "all_objects = s3_client.list_objects(Bucket = 'jhevrin2-datasci')\n",
    "contents = all_objects['Contents']"
   ]
  },
  {
   "cell_type": "code",
   "execution_count": 16,
   "id": "affected-aaron",
   "metadata": {},
   "outputs": [
    {
     "ename": "IndexError",
     "evalue": "list index out of range",
     "output_type": "error",
     "traceback": [
      "\u001b[0;31m---------------------------------------------------------------------------\u001b[0m",
      "\u001b[0;31mIndexError\u001b[0m                                Traceback (most recent call last)",
      "\u001b[0;32m<ipython-input-16-fd4857144634>\u001b[0m in \u001b[0;36m<module>\u001b[0;34m\u001b[0m\n\u001b[0;32m----> 1\u001b[0;31m \u001b[0;34m[\u001b[0m\u001b[0mcontent\u001b[0m\u001b[0;34m[\u001b[0m\u001b[0;34m'Key'\u001b[0m\u001b[0;34m]\u001b[0m \u001b[0;32mfor\u001b[0m \u001b[0mcontent\u001b[0m \u001b[0;32min\u001b[0m \u001b[0mall_objects\u001b[0m\u001b[0;34m[\u001b[0m\u001b[0;34m'Contents'\u001b[0m\u001b[0;34m]\u001b[0m \u001b[0;32mif\u001b[0m \u001b[0;34m'time-series'\u001b[0m \u001b[0;32min\u001b[0m \u001b[0mcontent\u001b[0m\u001b[0;34m[\u001b[0m\u001b[0;34m'Key'\u001b[0m\u001b[0;34m]\u001b[0m\u001b[0;34m]\u001b[0m\u001b[0;34m[\u001b[0m\u001b[0;36m1\u001b[0m\u001b[0;34m]\u001b[0m\u001b[0;34m\u001b[0m\u001b[0;34m\u001b[0m\u001b[0m\n\u001b[0m",
      "\u001b[0;31mIndexError\u001b[0m: list index out of range"
     ]
    }
   ],
   "source": [
    "[content['Key'] for content in all_objects['Contents'] if 'time-series' in content['Key']][1]"
   ]
  },
  {
   "cell_type": "code",
   "execution_count": null,
   "id": "eligible-recipe",
   "metadata": {},
   "outputs": [],
   "source": []
  }
 ],
 "metadata": {
  "kernelspec": {
   "display_name": "conda_chainer_p36",
   "language": "python",
   "name": "conda_chainer_p36"
  },
  "language_info": {
   "codemirror_mode": {
    "name": "ipython",
    "version": 3
   },
   "file_extension": ".py",
   "mimetype": "text/x-python",
   "name": "python",
   "nbconvert_exporter": "python",
   "pygments_lexer": "ipython3",
   "version": "3.6.13"
  }
 },
 "nbformat": 4,
 "nbformat_minor": 5
}
